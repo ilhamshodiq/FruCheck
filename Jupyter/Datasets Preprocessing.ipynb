{
 "cells": [
  {
   "cell_type": "code",
   "execution_count": 1,
   "id": "77e65e10",
   "metadata": {},
   "outputs": [],
   "source": [
    "import cv2\n",
    "import numpy as np\n",
    "import os"
   ]
  },
  {
   "cell_type": "code",
   "execution_count": 2,
   "id": "0cb6f1bb",
   "metadata": {},
   "outputs": [],
   "source": [
    "dataset_path = \"../Train\"\n",
    "destination_path = \"../Preprocessed\""
   ]
  },
  {
   "cell_type": "code",
   "execution_count": null,
   "id": "b0b8607f",
   "metadata": {},
   "outputs": [],
   "source": [
    "import os\n",
    "from PIL import Image\n",
    "import numpy as np\n",
    "\n",
    "# Define the paths\n",
    "dataset_path = \"../Train\"\n",
    "destination_path = \"../Preprocessed\"\n",
    "\n",
    "# Create the destination folder if it doesn't exist\n",
    "if not os.path.exists(destination_path):\n",
    "    os.makedirs(destination_path)\n",
    "\n",
    "# Iterate over the classes in the dataset\n",
    "for class_name in os.listdir(dataset_path):\n",
    "    class_path = os.path.join(dataset_path, class_name)\n",
    "    save_class_path = os.path.join(destination_path, class_name)\n",
    "    \n",
    "    # Create the destination class folder if it doesn't exist\n",
    "    if not os.path.exists(save_class_path):\n",
    "        os.makedirs(save_class_path)\n",
    "    \n",
    "    # Iterate over the images in the current class\n",
    "    for image_name in os.listdir(class_path):\n",
    "        image_path = os.path.join(class_path, image_name)\n",
    "        \n",
    "        try:\n",
    "            # Open the image\n",
    "            img = Image.open(image_path)\n",
    "            \n",
    "            # Resize the image to 128x128 pixels\n",
    "            resized_img = img.resize((128, 128))\n",
    "            \n",
    "            # Check if the resized image is empty\n",
    "            if np.array(resized_img).sum() == 0:\n",
    "                raise Exception(\"Resized image is blank: {}\".format(image_path))\n",
    "            \n",
    "            # Convert the image to numpy array\n",
    "            img_array = np.array(resized_img)\n",
    "            \n",
    "            # Normalize the pixel values to the range [0, 1]\n",
    "            normalized_img = img_array.astype(np.float32) / 255.0\n",
    "            \n",
    "            # Save the preprocessed image\n",
    "            save_path = os.path.join(save_class_path, image_name)\n",
    "            Image.fromarray((normalized_img * 255).astype(np.uint8)).save(save_path)\n",
    "            \n",
    "            print(\"Preprocessed image saved:\", save_path)\n",
    "        \n",
    "        except Exception as e:\n",
    "            print(\"Error processing image:\", image_path)\n",
    "            print(str(e))\n"
   ]
  }
 ],
 "metadata": {
  "kernelspec": {
   "display_name": "Python 3 (ipykernel)",
   "language": "python",
   "name": "python3"
  },
  "language_info": {
   "codemirror_mode": {
    "name": "ipython",
    "version": 3
   },
   "file_extension": ".py",
   "mimetype": "text/x-python",
   "name": "python",
   "nbconvert_exporter": "python",
   "pygments_lexer": "ipython3",
   "version": "3.9.13"
  }
 },
 "nbformat": 4,
 "nbformat_minor": 5
}
