{
 "cells": [
  {
   "cell_type": "code",
   "execution_count": null,
   "id": "cb1cf882",
   "metadata": {},
   "outputs": [],
   "source": [
    "### FOR PREDICTION USING TF SERVING ###\n",
    "import requests\n",
    "import numpy as np\n",
    "from PIL import Image\n",
    "\n",
    "# URL endpoint TensorFlow Serving\n",
    "url = \"http://localhost:8501/v1/models/model_name:predict\"  # endpoint URL\n",
    "\n",
    "# Load and preprocess the image\n",
    "image_path = \"../Datasets/Test/RottenCarrot/Carrot_Rotten-64_augmented.jpg\"  # Image path\n",
    "image = Image.open(image_path)\n",
    "image = image.resize((64, 64))\n",
    "image_array = np.array(image) / 255.0\n",
    "input_image = np.expand_dims(image_array, axis=0)\n",
    "\n",
    "# Convert input to JSON format\n",
    "input_data = {\n",
    "    \"instances\": input_image.tolist()\n",
    "}\n",
    "\n",
    "# Send prediction request\n",
    "response = requests.post(url, json=input_data)\n",
    "\n",
    "# Get prediction result\n",
    "predictions = np.array(response.json()[\"predictions\"][0])\n",
    "\n",
    "# Get predicted class index\n",
    "predicted_class = np.argmax(predictions)\n",
    "predicted_label = class_names[predicted_class]\n",
    "\n",
    "# CLASSIFICATION RESULTS VARIABLES\n",
    "label_predicted = predicted_label.replace('Segar', '').replace('Busuk', '') # Klasifikasi nama buah/sayur\n",
    "freshness = 'Segar' if 'Segar' in class_name else 'Busuk' # Menentukan segar atau busuk\n",
    "\n",
    "# Calculate prediction accuracy\n",
    "predicted_prob = np.max(predictions)\n",
    "accuracy = predicted_prob * 100\n",
    "\n",
    "# Print the predicted class, freshness, and accuracy\n",
    "print('Image:', image_path)\n",
    "print('Predicted Class:', label_predicted)\n",
    "print('Freshness:', freshness)\n",
    "print('Accuracy: {:.2f}%'.format(accuracy))"
   ]
  }
 ],
 "metadata": {
  "kernelspec": {
   "display_name": "Python 3 (ipykernel)",
   "language": "python",
   "name": "python3"
  },
  "language_info": {
   "codemirror_mode": {
    "name": "ipython",
    "version": 3
   },
   "file_extension": ".py",
   "mimetype": "text/x-python",
   "name": "python",
   "nbconvert_exporter": "python",
   "pygments_lexer": "ipython3",
   "version": "3.9.13"
  }
 },
 "nbformat": 4,
 "nbformat_minor": 5
}
